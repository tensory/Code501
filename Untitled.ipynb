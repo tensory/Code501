{
 "cells": [
  {
   "cell_type": "code",
   "execution_count": 22,
   "metadata": {
    "collapsed": false
   },
   "outputs": [
    {
     "name": "stdout",
     "output_type": "stream",
     "text": [
      "oe\n",
      "0 toe\n",
      "1 ote\n",
      "2 oet\n",
      "te\n",
      "0 ote\n",
      "1 toe\n",
      "2 teo\n",
      "to\n",
      "0 eto\n",
      "1 teo\n",
      "2 toe\n",
      "['toe', 'ote', 'oet', 'teo', 'eto']\n"
     ]
    }
   ],
   "source": [
    "def permute_string(string=\"\"):\n",
    "    permutations = {}\n",
    "    \n",
    "    for i, char in enumerate(string): # Python for (int i = 0; i < len, i++)\n",
    "        string_without_char = string[:i] + string[i + 1:]\n",
    "        \n",
    "        print(string_without_char)\n",
    "        \n",
    "        for j in range(len(string)):\n",
    "            print(j, string_without_char[:j] + char + string_without_char[j:])\n",
    "            \n",
    "            permutations[string_without_char[:j] + char + string_without_char[j:]] = None\n",
    "    \n",
    "    return list(permutations.keys())\n",
    "    \n",
    "print(permute_string(\"toe\"))"
   ]
  },
  {
   "cell_type": "code",
   "execution_count": 5,
   "metadata": {
    "collapsed": false
   },
   "outputs": [
    {
     "data": {
      "text/plain": [
       "''"
      ]
     },
     "execution_count": 5,
     "metadata": {},
     "output_type": "execute_result"
    }
   ],
   "source": [
    "\"es\"[:0]"
   ]
  },
  {
   "cell_type": "code",
   "execution_count": 9,
   "metadata": {
    "collapsed": false
   },
   "outputs": [
    {
     "data": {
      "text/plain": [
       "'es'"
      ]
     },
     "execution_count": 9,
     "metadata": {},
     "output_type": "execute_result"
    }
   ],
   "source": [
    "\"es\"[0:]"
   ]
  },
  {
   "cell_type": "code",
   "execution_count": null,
   "metadata": {
    "collapsed": true
   },
   "outputs": [],
   "source": []
  }
 ],
 "metadata": {
  "kernelspec": {
   "display_name": "Python 3",
   "language": "python",
   "name": "python3"
  },
  "language_info": {
   "codemirror_mode": {
    "name": "ipython",
    "version": 3
   },
   "file_extension": ".py",
   "mimetype": "text/x-python",
   "name": "python",
   "nbconvert_exporter": "python",
   "pygments_lexer": "ipython3",
   "version": "3.6.0"
  }
 },
 "nbformat": 4,
 "nbformat_minor": 2
}
