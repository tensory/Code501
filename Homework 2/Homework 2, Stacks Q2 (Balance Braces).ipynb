{
 "cells": [
  {
   "cell_type": "code",
   "execution_count": 15,
   "metadata": {
    "collapsed": false,
    "deletable": true,
    "editable": true
   },
   "outputs": [
    {
     "name": "stdout",
     "output_type": "stream",
     "text": [
      "True\n",
      "True\n",
      "True\n",
      "True\n",
      "True\n",
      "True\n",
      "True\n",
      "True\n"
     ]
    }
   ],
   "source": [
    "from stack import Stack\n",
    "\n",
    "brace_chars = {\n",
    "    ']': '[', \n",
    "    ')': '(',\n",
    "    '}': '{',\n",
    "}\n",
    "\n",
    "left_braces = '[({'\n",
    "right_braces = '])}'\n",
    "\n",
    "def matcher(string):\n",
    "    stack = Stack()\n",
    "    for v in string:\n",
    "        if v in left_braces:\n",
    "            stack.push(v)\n",
    "            continue\n",
    "        \n",
    "        if v in right_braces:\n",
    "            if stack.size() == 0:\n",
    "                return False\n",
    "            \n",
    "            if stack.peek() == brace_chars[v]:\n",
    "                # found a matching pair\n",
    "                stack.pop()\n",
    "    \n",
    "    return stack.size() == 0\n",
    "\n",
    "    \n",
    "tests = {\n",
    "    '' : True,\n",
    "    '[(])' : False,\n",
    "    '[()]' : True,\n",
    "    '[]' : True,\n",
    "    '[()]{}{[()()]()}' : True,\n",
    "    ']': False,\n",
    "    '[Ya]ya' : True,\n",
    "    '[(]' : False\n",
    "}\n",
    "\n",
    "\n",
    "for k, v in tests.items():\n",
    "   print(matcher(k) == v)\n"
   ]
  },
  {
   "cell_type": "code",
   "execution_count": null,
   "metadata": {
    "collapsed": true
   },
   "outputs": [],
   "source": []
  }
 ],
 "metadata": {
  "kernelspec": {
   "display_name": "Python 3",
   "language": "python",
   "name": "python3"
  },
  "language_info": {
   "codemirror_mode": {
    "name": "ipython",
    "version": 3
   },
   "file_extension": ".py",
   "mimetype": "text/x-python",
   "name": "python",
   "nbconvert_exporter": "python",
   "pygments_lexer": "ipython3",
   "version": "3.6.0"
  }
 },
 "nbformat": 4,
 "nbformat_minor": 2
}
