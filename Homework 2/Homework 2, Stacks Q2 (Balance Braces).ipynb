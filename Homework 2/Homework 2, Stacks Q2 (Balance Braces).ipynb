{
 "cells": [
  {
   "cell_type": "code",
   "execution_count": 1,
   "metadata": {},
   "outputs": [
    {
     "name": "stdout",
     "output_type": "stream",
     "text": [
      "True\n",
      "True\n",
      "True\n",
      "True\n",
      "True\n",
      "True\n",
      "True\n",
      "True\n"
     ]
    }
   ],
   "source": [
    "brace_chars = {\n",
    "    '[' : ']',\n",
    "    '(' : ')',\n",
    "    '{' : '}'\n",
    "}\n",
    "\n",
    "def matcher(string=\"\"):\n",
    "    left_i, right_i = 0, 0\n",
    "    key = \"\"\n",
    "    \n",
    "    if len(string) > 0:\n",
    "        # we don't know yet if the substring has any brace matches\n",
    "        # if it has at least one, it may be unmatched\n",
    "        has_brace_char = False \n",
    "        for i, char in enumerate(string):\n",
    "            if char in brace_chars.keys():\n",
    "                # set the index of the left brace\n",
    "                has_brace_char = True\n",
    "                left_i = i\n",
    "                key = char\n",
    "                \n",
    "            if char in brace_chars.values():\n",
    "                has_brace_char = True\n",
    "                if key in brace_chars and brace_chars[key] == char:\n",
    "                    # found the right brace!\n",
    "                    right_i = i\n",
    "                \n",
    "            if right_i > left_i:\n",
    "                return True if right_i - left_i == 1 else matcher(string[left_i + 1 : right_i])\n",
    "            \n",
    "        # return False if the string has an unmatched brace char,\n",
    "        # True if the string has no brace chars at all\n",
    "        return not has_brace_char\n",
    "    else:\n",
    "        return True\n",
    "    \n",
    "tests = {\n",
    "    '' : True,\n",
    "    '[(])' : False,\n",
    "    '[()]' : True,\n",
    "    '[]' : True,\n",
    "    '[()]{}{[()()]()}' : True,\n",
    "    ']': False,\n",
    "    '[Ya]ya' : True,\n",
    "    '[(]' : False\n",
    "}\n",
    "\n",
    "\n",
    "for k, v in tests.items():\n",
    "   print(matcher(k) == v)\n"
   ]
  },
  {
   "cell_type": "code",
   "execution_count": 39,
   "metadata": {},
   "outputs": [
    {
     "data": {
      "text/plain": [
       "True"
      ]
     },
     "execution_count": 39,
     "metadata": {},
     "output_type": "execute_result"
    }
   ],
   "source": [
    "not \"\""
   ]
  },
  {
   "cell_type": "code",
   "execution_count": 40,
   "metadata": {},
   "outputs": [
    {
     "data": {
      "text/plain": [
       "''"
      ]
     },
     "execution_count": 40,
     "metadata": {},
     "output_type": "execute_result"
    }
   ],
   "source": [
    "\"\""
   ]
  },
  {
   "cell_type": "code",
   "execution_count": 41,
   "metadata": {},
   "outputs": [
    {
     "data": {
      "text/plain": [
       "''"
      ]
     },
     "execution_count": 41,
     "metadata": {},
     "output_type": "execute_result"
    }
   ],
   "source": [
    "'' and False"
   ]
  },
  {
   "cell_type": "code",
   "execution_count": null,
   "metadata": {
    "collapsed": true
   },
   "outputs": [],
   "source": []
  }
 ],
 "metadata": {
  "kernelspec": {
   "display_name": "Python 3",
   "language": "python",
   "name": "python3"
  },
  "language_info": {
   "codemirror_mode": {
    "name": "ipython",
    "version": 3
   },
   "file_extension": ".py",
   "mimetype": "text/x-python",
   "name": "python",
   "nbconvert_exporter": "python",
   "pygments_lexer": "ipython3",
   "version": "3.6.0"
  }
 },
 "nbformat": 4,
 "nbformat_minor": 2
}
