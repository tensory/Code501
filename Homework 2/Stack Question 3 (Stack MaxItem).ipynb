{
 "cells": [
  {
   "cell_type": "code",
   "execution_count": null,
   "metadata": {
    "collapsed": true
   },
   "outputs": [],
   "source": [
    "class IntegerStack:\n",
    "    def __init__(self):\n",
    "        self.stack = []\n",
    "        self.max = 0\n",
    "    \n",
    "    def push(self, item):\n",
    "        return self.stack.append(item)\n",
    "    \n",
    "    def peek(self):\n",
    "        try:\n",
    "            return self.stack[-1]\n",
    "        except IndexError:\n",
    "            raise IndexError(\"Tried to peek on empty stack.\")\n",
    "            \n",
    "    def size(self):\n",
    "        return len(self.stack)\n",
    "        \n",
    "    def pop(self):\n",
    "        try:\n",
    "            value = self.stack[-1]\n",
    "            self.stack = self.stack[:-1]\n",
    "            return value\n",
    "        except IndexError:\n",
    "            raise IndexError(\"Tried to pop from empty stack.\")\n",
    "            \n",
    "    def max(self):\n",
    "        if not self.stack:\n",
    "            return None\n",
    "        for v in self.stack:\n",
    "            if v > self.max:\n",
    "                self.max = v\n",
    "\n",
    "        "
   ]
  },
  {
   "cell_type": "code",
   "execution_count": 1,
   "metadata": {},
   "outputs": [
    {
     "name": "stdout",
     "output_type": "stream",
     "text": [
      "not\n"
     ]
    }
   ],
   "source": [
    "stack = []\n",
    "if not stack:\n",
    "    print(\"not\")"
   ]
  },
  {
   "cell_type": "code",
   "execution_count": null,
   "metadata": {
    "collapsed": true
   },
   "outputs": [],
   "source": []
  }
 ],
 "metadata": {
  "kernelspec": {
   "display_name": "Python 3",
   "language": "python",
   "name": "python3"
  },
  "language_info": {
   "codemirror_mode": {
    "name": "ipython",
    "version": 3
   },
   "file_extension": ".py",
   "mimetype": "text/x-python",
   "name": "python",
   "nbconvert_exporter": "python",
   "pygments_lexer": "ipython3",
   "version": "3.6.0"
  }
 },
 "nbformat": 4,
 "nbformat_minor": 2
}
