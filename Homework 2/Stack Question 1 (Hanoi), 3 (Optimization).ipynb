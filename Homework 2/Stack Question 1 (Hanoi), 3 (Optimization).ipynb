{
 "cells": [
  {
   "cell_type": "code",
   "execution_count": 5,
   "metadata": {
    "collapsed": false,
    "deletable": true,
    "editable": true
   },
   "outputs": [
    {
     "name": "stdout",
     "output_type": "stream",
     "text": [
      "1\n",
      "2\n",
      "3\n",
      "4\n"
     ]
    }
   ],
   "source": [
    "from stack import Stack\n",
    "            \n",
    "def select_tower(size, src, tmp, dst):\n",
    "    if size > 0:\n",
    "        select_tower(size - 1, src, dst, tmp)\n",
    "        \n",
    "        if src.size() > 0:\n",
    "            dst.push(src.pop())\n",
    "        \n",
    "        select_tower(size - 1, tmp, src, dst)\n",
    "            \n",
    "            \n",
    "a, b, c = Stack(), Stack(), Stack()\n",
    "\n",
    "# build the tower on A\n",
    "for i in reversed(range(4)):\n",
    "    a.push(i + 1)\n",
    "\n",
    "select_tower(a.size(), a, b, c)\n",
    "\n",
    "while c.size() > 0:\n",
    "    print(c.pop())\n",
    "        \n",
    "        \n",
    "        \n",
    "#     tower_move(a.size(), a, b, c)\n",
    "#     print(a.peek() if a.size() > 0 else \"-\", \",\", b.peek() if b.size() > 0 else \"-\", \",\", c.peek() if c.size() > 0 else \"-\")\n",
    "#     print(result)\n",
    "\n",
    "\n",
    "# def tower_move(size, tower1, tower2, tower3):\n",
    "#     if tower1.size() == 0:\n",
    "#         return\n",
    "    \n",
    "#     tower_move(size - 1, tower1, tower3, tower2)\n",
    "#     move(tower1.pop(), tower1, tower3)\n",
    "#     tower_move(size - 1, tower2, tower1, tower3)\n",
    "\n",
    "# def move(value, source, dest):\n",
    "#     dest.push(value)\n",
    "    \n",
    "    \n",
    "#     if tower1.size() == 0:\n",
    "#         return True\n",
    "#     elif tower1.size() == 1:\n",
    "#         tower3.push(tower1.pop())\n",
    "#         return tower_move(tower1, tower2, tower3)\n",
    "#     else:\n",
    "#         if tower1.size() % 2 == 0:\n",
    "#             # use even number strategy\n",
    "#             pass\n",
    "#         else\n",
    "            \n",
    "#             if tower2.size() == \n",
    "        \n",
    "#         if tower2.size() == 0 or tower2.peek() > tower1.peek():\n",
    "#             tower2.push(tower1.pop())\n",
    "#             return tower_move(tower1, tower2, tower3)\n",
    "#         elif tower3.size() == 0 or tower3.peek() > tower1.peek():\n",
    "#             tower3.push(tower1.pop())\n",
    "#             return tower_move(tower1, tower2, tower3)\n",
    "#         else:\n",
    "#             # failed to push either to 2 or 3, so we need to move something off \n",
    "#             if tower2.peek() < tower3.peek():\n",
    "#                 tower3.push(tower2.pop())\n",
    "#                 return tower_move(tower1, tower2, tower3)\n",
    "#             elif tower2.peek() < tower1.peek():\n",
    "#                 tower1.push(tower2.pop())\n",
    "#                 return tower_move(tower2, tower1, tower3)\n",
    "#             else:\n",
    "# #                 return tower_move(tower2, tower1, tower3)\n",
    "#                 return False\n",
    "                \n",
    "#     return False"
   ]
  },
  {
   "cell_type": "code",
   "execution_count": null,
   "metadata": {
    "collapsed": true,
    "deletable": true,
    "editable": true
   },
   "outputs": [],
   "source": []
  }
 ],
 "metadata": {
  "kernelspec": {
   "display_name": "Python 3",
   "language": "python",
   "name": "python3"
  },
  "language_info": {
   "codemirror_mode": {
    "name": "ipython",
    "version": 3
   },
   "file_extension": ".py",
   "mimetype": "text/x-python",
   "name": "python",
   "nbconvert_exporter": "python",
   "pygments_lexer": "ipython3",
   "version": "3.6.0"
  }
 },
 "nbformat": 4,
 "nbformat_minor": 2
}
