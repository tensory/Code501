{
 "cells": [
  {
   "cell_type": "code",
   "execution_count": 3,
   "metadata": {
    "collapsed": false
   },
   "outputs": [
    {
     "name": "stdout",
     "output_type": "stream",
     "text": [
      "{'x': ['a']}\n"
     ]
    }
   ],
   "source": [
    "class Letter():\n",
    "    def __init__(self, value, ):\n",
    "        self.value = value\n",
    "\n",
    "def find_alphabet_orders(word_list):\n",
    "    \"\"\"Given a list of words, find possible orders for the letters of the alphabet.\"\"\"\n",
    "    # Consider each pair of words.\n",
    "    \n",
    "    letter_values = {}\n",
    "\n",
    "    for i in range(len(word_list) - 1):\n",
    "        left = word_list[i]\n",
    "        right = word_list[i + 1]\n",
    "        \n",
    "        for ltr in range(min(len(left), len(right))):\n",
    "            if left[ltr] == right[ltr]:\n",
    "                continue\n",
    "                \n",
    "            earlier, later = left[ltr], right[ltr]\n",
    "            \n",
    "            if earlier in letter_values:\n",
    "                letter_values[earlier].append(later)\n",
    "            else:\n",
    "                letter_values[earlier] = [later]\n",
    "                \n",
    "            break\n",
    "        \n",
    "            \n",
    "    print(letter_values)\n",
    "        \n",
    "    # Construct a \n",
    "    \n",
    "    # Within a pair, consider letters at each position.\n",
    "    # When letters do not match, an order exists.\n",
    "    \n",
    "words = [\"xza\", \"ayh\", \n",
    "# \"ples\", \"plares\", \"bhaaz\", \"bnc\"\n",
    "]\n",
    "\n",
    "find_alphabet_orders(words)"
   ]
  },
  {
   "cell_type": "code",
   "execution_count": null,
   "metadata": {
    "collapsed": true
   },
   "outputs": [],
   "source": []
  }
 ],
 "metadata": {
  "kernelspec": {
   "display_name": "Python 3",
   "language": "python",
   "name": "python3"
  },
  "language_info": {
   "codemirror_mode": {
    "name": "ipython",
    "version": 3
   },
   "file_extension": ".py",
   "mimetype": "text/x-python",
   "name": "python",
   "nbconvert_exporter": "python",
   "pygments_lexer": "ipython3",
   "version": "3.6.0"
  }
 },
 "nbformat": 4,
 "nbformat_minor": 2
}
