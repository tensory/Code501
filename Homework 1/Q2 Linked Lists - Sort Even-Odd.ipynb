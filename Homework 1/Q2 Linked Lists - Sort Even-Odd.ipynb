{
 "cells": [
  {
   "cell_type": "code",
   "execution_count": 25,
   "metadata": {},
   "outputs": [
    {
     "name": "stdout",
     "output_type": "stream",
     "text": [
      "0, 2, 4, 6, 8, 1, 3, 5, 7\n",
      "\n"
     ]
    },
    {
     "data": {
      "text/plain": [
       "''"
      ]
     },
     "execution_count": 25,
     "metadata": {},
     "output_type": "execute_result"
    }
   ],
   "source": [
    "from linkedList import LinkedList\n",
    "from testUtils import test_lists_equals\n",
    "\n",
    "class TailedLinkedList(LinkedList):\n",
    "    def __init__(self):\n",
    "        super(LinkedList, self)\n",
    "        self.head = None\n",
    "        self.last = None\n",
    "        \n",
    "    def add(self, value):\n",
    "        if not self.head:\n",
    "            self.head = LinkedList.Node(value)\n",
    "            return\n",
    "\n",
    "        last_node = self.head\n",
    "        while last_node.next:\n",
    "            last_node = last_node.next\n",
    "\n",
    "        final = LinkedList.Node(value)\n",
    "        last_node.next = final\n",
    "        self.last = final\n",
    "        \n",
    "        \n",
    "    def delete(self, value):\n",
    "        if not self.head:\n",
    "            return False\n",
    "\n",
    "        if self.last and self.last.value == value_to_delete:\n",
    "            self.last = None\n",
    "                \n",
    "        # deletion at head\n",
    "        if self.head.value == value_to_delete:\n",
    "            self.head = self.head.next\n",
    "            return True\n",
    "\n",
    "        # deletion for a non-head node\n",
    "        prev_node = None\n",
    "        next_node = self.head\n",
    "\n",
    "        while next_node: # there is more than one node\n",
    "            self.last = next_node\n",
    "            \n",
    "            if next_node.value == value_to_delete:\n",
    "                prev_node.next = next_node.next\n",
    "                return True\n",
    "            prev_node = next_node\n",
    "            next_node = next_node.next\n",
    "        return False    \n",
    "        \n",
    "\n",
    "def sort_evens_first(in_linked_list):\n",
    "    odds = TailedLinkedList()\n",
    "    evens = TailedLinkedList()\n",
    "\n",
    "    node = in_linked_list.head\n",
    "    i = 0\n",
    "    while node:\n",
    "        if i % 2 == 0:\n",
    "            evens.add(node.value)\n",
    "        else:\n",
    "            odds.add(node.value)\n",
    "        \n",
    "        i += 1\n",
    "        node = node.next\n",
    "    \n",
    "    if evens.last:\n",
    "        evens.last.next = odds.head\n",
    "    return evens\n",
    "\n",
    "def one_to_nine():\n",
    "    test_list = LinkedList()\n",
    "    for i in range(9):\n",
    "        test_list.add(i)\n",
    "    return test_list\n",
    "\n",
    "\n",
    "test_cases = []\n",
    "test_cases.append(one_to_nine())\n",
    "test_cases.append(LinkedList())\n",
    "    \n",
    "for ll in test_cases:\n",
    "    print(sort_evens_first(ll).to_string())\n",
    "\n",
    "    \n",
    "sort_evens_first(LinkedList()).to_string()\n"
   ]
  },
  {
   "cell_type": "code",
   "execution_count": null,
   "metadata": {
    "collapsed": true
   },
   "outputs": [],
   "source": []
  }
 ],
 "metadata": {
  "kernelspec": {
   "display_name": "Python 3",
   "language": "python",
   "name": "python3"
  },
  "language_info": {
   "codemirror_mode": {
    "name": "ipython",
    "version": 3
   },
   "file_extension": ".py",
   "mimetype": "text/x-python",
   "name": "python",
   "nbconvert_exporter": "python",
   "pygments_lexer": "ipython3",
   "version": "3.6.0"
  }
 },
 "nbformat": 4,
 "nbformat_minor": 2
}
