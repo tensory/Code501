{
 "cells": [
  {
   "cell_type": "code",
   "execution_count": 6,
   "metadata": {
    "collapsed": false
   },
   "outputs": [
    {
     "name": "stdout",
     "output_type": "stream",
     "text": [
      "[[1, 5], [6, 7], [8, 9]]\n",
      "True\n",
      "[[1, 5], [8, 9]]\n",
      "True\n",
      "[[1, 5], [6, 9]]\n",
      "True\n"
     ]
    }
   ],
   "source": [
    "def merge_intervals(new_interval):\n",
    "    intervals = [\n",
    "        [1,5], [8,9],\n",
    "    ]\n",
    "    \n",
    "    if new_interval[1] < intervals[0][0]:\n",
    "        intervals.insert(0, new_interval)\n",
    "        return intervals\n",
    "    \n",
    "    elif new_interval[0] > intervals[1][1]:\n",
    "        intervals.insert(len(intervals), new_interval)\n",
    "        return intervals\n",
    "    \n",
    "    elif new_interval[1] < intervals[1][0] and new_interval[0] > intervals[0][1]:\n",
    "        intervals.insert(1, new_interval)\n",
    "        return intervals\n",
    "\n",
    "    else:\n",
    "        # can't insert, gotta merge\n",
    "        # left: exclude new_interval from the right-hand side\n",
    "        if new_interval[1] < intervals[1][0]:\n",
    "            if new_interval[1] > intervals[0][1]:\n",
    "                intervals[0][1] = new_interval[1]\n",
    "            if new_interval[0] < intervals[0][0]:\n",
    "                intervals[0][1] = new_interval[0]\n",
    "        \n",
    "        else: \n",
    "            # working on the right-hand side\n",
    "            if new_interval[1] > intervals[1][1]:\n",
    "                intervals[1][1] = new_interval[1]\n",
    "            if new_interval[0] < intervals[1][0]:\n",
    "                intervals[1][0] = new_interval[0]\n",
    "        \n",
    "    return intervals\n",
    "\n",
    "\n",
    "tests = [\n",
    "    ([6, 7], [[1,5],[6,7],[8,9]]),\n",
    "    ([2,3], [[1,5], [8,9]]),\n",
    "    ([6,8], [[1,5],[6,9]]),\n",
    "    \n",
    "]\n",
    "\n",
    "for t in tests:\n",
    "    print(merge_intervals(t[0]))\n",
    "    print(merge_intervals(t[0]) == t[1])\n",
    "            \n",
    "    \n",
    "    "
   ]
  },
  {
   "cell_type": "code",
   "execution_count": null,
   "metadata": {
    "collapsed": true
   },
   "outputs": [],
   "source": []
  }
 ],
 "metadata": {
  "kernelspec": {
   "display_name": "Python 3",
   "language": "python",
   "name": "python3"
  },
  "language_info": {
   "codemirror_mode": {
    "name": "ipython",
    "version": 3
   },
   "file_extension": ".py",
   "mimetype": "text/x-python",
   "name": "python",
   "nbconvert_exporter": "python",
   "pygments_lexer": "ipython3",
   "version": "3.6.0"
  }
 },
 "nbformat": 4,
 "nbformat_minor": 2
}
