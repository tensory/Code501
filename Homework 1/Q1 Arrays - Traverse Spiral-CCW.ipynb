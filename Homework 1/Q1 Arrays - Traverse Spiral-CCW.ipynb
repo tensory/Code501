{
 "cells": [
  {
   "cell_type": "code",
   "execution_count": null,
   "metadata": {
    "collapsed": true
   },
   "outputs": [],
   "source": []
  },
  {
   "cell_type": "code",
   "execution_count": 29,
   "metadata": {},
   "outputs": [
    {
     "name": "stdout",
     "output_type": "stream",
     "text": [
      "[1, 2, 3, 6, 9, 12, 11, 10, 7, 4, 5, 8]\n",
      "[1, 2, 3, 4, 5, 10, 15, 20, 19, 18, 17, 16, 11, 6, 7, 8, 9, 14, 13, 12]\n"
     ]
    }
   ],
   "source": [
    "def traverse_spiral(a, clockwise=True):\n",
    "    width = len(a[0])\n",
    "    height = len(a)\n",
    "    values = []\n",
    "    \n",
    "    min_x, max_x = 0, len(a[0])\n",
    "    min_y, max_y = 0, len(a)\n",
    "    \n",
    "    direction = 0 if clockwise else 3\n",
    "\n",
    "    # while the selected section of a is nonzero in size\n",
    "    while max_y > min_y and max_x > min_x:\n",
    "        if direction == 0: # top\n",
    "            values.extend(select(a, min_x, min_y, max_x, direction))\n",
    "            min_y += 1\n",
    "            \n",
    "        elif direction == 1: # right\n",
    "            values.extend(select(a, max_x, min_y, max_y, direction))\n",
    "            max_x -= 1\n",
    "        \n",
    "        elif direction == 2: # bottom\n",
    "            values.extend(select(a, max_x, max_y, min_x, direction))\n",
    "            max_y -= 1\n",
    "\n",
    "        elif direction == 3: # left\n",
    "            values.extend(select(a, min_x, max_y, min_y, direction))\n",
    "            min_x += 1\n",
    "           \n",
    "        if clockwise:\n",
    "            if direction == 3:\n",
    "                direction = 0\n",
    "            else:\n",
    "                direction += 1\n",
    "        else:\n",
    "            if direction == 0:\n",
    "                direction = 3\n",
    "            else:\n",
    "                direction -= 1\n",
    "        \n",
    "\n",
    "    # once you've returned the subarray, \n",
    "    # redefine a without the data range you've just consumed.\n",
    "    \n",
    "    return values\n",
    "    \n",
    "    \n",
    "def select(a, x, y, limit, direction):\n",
    "    to_select = []\n",
    "    \n",
    "    if direction == 0:\n",
    "        for i in range(x, limit):\n",
    "            to_select.append(a[y][i])\n",
    "    elif direction == 1:\n",
    "        for i in range(y, limit):\n",
    "            to_select.append(a[i][x - 1])\n",
    "    elif direction == 2:\n",
    "        for i in range(x - 1, limit - 1, -1):\n",
    "            to_select.append(a[y - 1][i])\n",
    "    elif direction == 3:\n",
    "        for i in range(y - 1, limit - 1, -1):\n",
    "            to_select.append(a[i][x])\n",
    "            \n",
    "\n",
    "    return to_select\n",
    "\n",
    "print(traverse_spiral([\n",
    "    [1, 2, 3],\n",
    "    [4, 5, 6],\n",
    "    [7, 8, 9],\n",
    "    [10, 11, 12],\n",
    "]))\n",
    "\n",
    "print(traverse_spiral([\n",
    "    [1, 2, 3, 4, 5],\n",
    "    [6, 7, 8, 9, 10],\n",
    "    [11, 12, 13, 14, 15],\n",
    "    [16, 17, 18, 19, 20],\n",
    "]))\n",
    "\n",
    "# print(traverse_spiral([\n",
    "#     [1, 2, 3],\n",
    "#     [4, 5, 6],\n",
    "#     [7, 8, 9],\n",
    "#     [10, 11, 12],\n",
    "# ], False))"
   ]
  },
  {
   "cell_type": "code",
   "execution_count": null,
   "metadata": {
    "collapsed": true
   },
   "outputs": [],
   "source": []
  }
 ],
 "metadata": {
  "kernelspec": {
   "display_name": "Python 3",
   "language": "python",
   "name": "python3"
  },
  "language_info": {
   "codemirror_mode": {
    "name": "ipython",
    "version": 3
   },
   "file_extension": ".py",
   "mimetype": "text/x-python",
   "name": "python",
   "nbconvert_exporter": "python",
   "pygments_lexer": "ipython3",
   "version": "3.6.0"
  }
 },
 "nbformat": 4,
 "nbformat_minor": 2
}
