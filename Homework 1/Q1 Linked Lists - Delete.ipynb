{
 "cells": [
  {
   "cell_type": "code",
   "execution_count": 35,
   "metadata": {
    "collapsed": false,
    "deletable": true,
    "editable": true
   },
   "outputs": [
    {
     "name": "stdout",
     "output_type": "stream",
     "text": [
      "True\n",
      "True\n",
      "True\n"
     ]
    }
   ],
   "source": [
    "class LinkedList:\n",
    "    class Node:\n",
    "        def __init__(self, value):\n",
    "            self.next = None\n",
    "            self.value = value\n",
    "            \n",
    "        def setNext(self, node):\n",
    "            self.next = node            \n",
    "    \n",
    "    def __init__(self):\n",
    "        self.head = None\n",
    "        \n",
    "    def add(self, value):\n",
    "        if not self.head:\n",
    "            self.head = LinkedList.Node(value)\n",
    "            return\n",
    "        \n",
    "        last_node = self.head\n",
    "        while last_node.next:\n",
    "            last_node = last_node.next\n",
    "            \n",
    "        last_node.next = LinkedList.Node(value)\n",
    "        \n",
    "    # Added for Q1.\n",
    "    def delete(self, value_to_delete):\n",
    "        if not self.head:\n",
    "            return False\n",
    "\n",
    "        # deletion at head\n",
    "        if self.head.value == value_to_delete:\n",
    "            self.head = self.head.next\n",
    "            return True\n",
    "                \n",
    "        # deletion for a non-head node\n",
    "        prev_node = None\n",
    "        next_node = self.head\n",
    "\n",
    "        while next_node: # there is more than one node\n",
    "            if next_node.value == value_to_delete:\n",
    "                prev_node.next = next_node.next\n",
    "                return True\n",
    "            prev_node = next_node\n",
    "            next_node = next_node.next\n",
    "        return False\n",
    "    \n",
    "    def to_string(self):\n",
    "        return \", \".join([str(i) for i in self.to_list()])\n",
    "    \n",
    "    def to_list(self):\n",
    "        if not self.head:\n",
    "            return ''\n",
    "        \n",
    "        values = []\n",
    "        next_node = self.head\n",
    "        while next_node:\n",
    "            values.append(next_node.value)\n",
    "            next_node = next_node.next\n",
    "        return values\n",
    " \n",
    "\n",
    "\n",
    "# List = HEAD > 1 > 3 > 6 > -1 > 8 > NULL\n",
    "\n",
    "# Delete (3)\n",
    "\n",
    "# Updated list = HEAD > 1 > 6 > -1 > 8 > NULL\n",
    "\n",
    "# Delete (8)\n",
    "\n",
    "# Updated list = HEAD > 1 > 6 > -1 > NULL\n",
    "\n",
    "# Delete (1)\n",
    "\n",
    "# Updated list = HEAD > 6 > -1 > NULL\n",
    "\n",
    "a1 = [1, 3, 6, -1, 8]\n",
    "a2 = [1, 6, -1, 8]\n",
    "a3 = [1, 6, -1]\n",
    "a4 = [6, -1]\n",
    "tests = [\n",
    "    (a1, 3, a2),\n",
    "    (a2, 8, a3),\n",
    "    (a3, 1, a4)\n",
    "]\n",
    "\n",
    "def test_equals(list1, list2):\n",
    "    if not list1 or not list2 or len(list1) != len(list2):\n",
    "        return False\n",
    "    \n",
    "    for i, k in enumerate(list1):\n",
    "        if list2[i] != list1[i]:\n",
    "            return False\n",
    "    return True\n",
    "\n",
    "for tup in tests:\n",
    "    ll = LinkedList()\n",
    "    for i in tup[0]:\n",
    "        ll.add(i)\n",
    "    \n",
    "    ll.delete(tup[1])\n",
    "    print(test_equals(tup[2], ll.to_list()))\n",
    "    "
   ]
  },
  {
   "cell_type": "code",
   "execution_count": 23,
   "metadata": {
    "collapsed": false,
    "deletable": true,
    "editable": true
   },
   "outputs": [
    {
     "name": "stdout",
     "output_type": "stream",
     "text": [
      "2\n",
      "3\n"
     ]
    },
    {
     "data": {
      "text/plain": [
       "'3, 6'"
      ]
     },
     "execution_count": 23,
     "metadata": {},
     "output_type": "execute_result"
    }
   ],
   "source": [
    "ll = LinkedList()\n",
    "ll.add(2)\n",
    "ll.add(3)\n",
    "ll.add(6)\n",
    "ll.delete(3)\n",
    "ll.delete(2)\n",
    "ll.to_string()"
   ]
  },
  {
   "cell_type": "code",
   "execution_count": null,
   "metadata": {
    "collapsed": true,
    "deletable": true,
    "editable": true
   },
   "outputs": [],
   "source": []
  }
 ],
 "metadata": {
  "kernelspec": {
   "display_name": "Python 3",
   "language": "python",
   "name": "python3"
  },
  "language_info": {
   "codemirror_mode": {
    "name": "ipython",
    "version": 3
   },
   "file_extension": ".py",
   "mimetype": "text/x-python",
   "name": "python",
   "nbconvert_exporter": "python",
   "pygments_lexer": "ipython3",
   "version": "3.6.0"
  }
 },
 "nbformat": 4,
 "nbformat_minor": 2
}
