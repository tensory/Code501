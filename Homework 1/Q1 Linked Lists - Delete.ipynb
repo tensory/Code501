{
 "cells": [
  {
   "cell_type": "code",
   "execution_count": 5,
   "metadata": {},
   "outputs": [
    {
     "name": "stdout",
     "output_type": "stream",
     "text": [
      "True\n",
      "True\n",
      "True\n"
     ]
    }
   ],
   "source": [
    "from linkedList import LinkedList\n",
    "from testUtils import test_equals\n",
    "\n",
    "# List = HEAD > 1 > 3 > 6 > -1 > 8 > NULL\n",
    "\n",
    "# Delete (3)\n",
    "\n",
    "# Updated list = HEAD > 1 > 6 > -1 > 8 > NULL\n",
    "\n",
    "# Delete (8)\n",
    "\n",
    "# Updated list = HEAD > 1 > 6 > -1 > NULL\n",
    "\n",
    "# Delete (1)\n",
    "\n",
    "# Updated list = HEAD > 6 > -1 > NULL\n",
    "\n",
    "a1 = [1, 3, 6, -1, 8]\n",
    "a2 = [1, 6, -1, 8]\n",
    "a3 = [1, 6, -1]\n",
    "a4 = [6, -1]\n",
    "tests = [\n",
    "    (a1, 3, a2),\n",
    "    (a2, 8, a3),\n",
    "    (a3, 1, a4)\n",
    "]\n",
    "\n",
    "for tup in tests:\n",
    "    ll = LinkedList()\n",
    "    for i in tup[0]:\n",
    "        ll.add(i)\n",
    "    \n",
    "    ll.delete(tup[1])\n",
    "    print(test_equals(tup[2], ll.to_list()))\n",
    "    "
   ]
  },
  {
   "cell_type": "code",
   "execution_count": 3,
   "metadata": {},
   "outputs": [
    {
     "data": {
      "text/plain": [
       "'6'"
      ]
     },
     "execution_count": 3,
     "metadata": {},
     "output_type": "execute_result"
    }
   ],
   "source": [
    "ll = LinkedList()\n",
    "ll.add(2)\n",
    "ll.add(3)\n",
    "ll.add(6)\n",
    "ll.delete(3)\n",
    "ll.delete(2)\n",
    "ll.to_string()"
   ]
  },
  {
   "cell_type": "code",
   "execution_count": null,
   "metadata": {
    "collapsed": true
   },
   "outputs": [],
   "source": []
  },
  {
   "cell_type": "code",
   "execution_count": null,
   "metadata": {
    "collapsed": true
   },
   "outputs": [],
   "source": []
  }
 ],
 "metadata": {
  "kernelspec": {
   "display_name": "Python 3",
   "language": "python",
   "name": "python3"
  },
  "language_info": {
   "codemirror_mode": {
    "name": "ipython",
    "version": 3
   },
   "file_extension": ".py",
   "mimetype": "text/x-python",
   "name": "python",
   "nbconvert_exporter": "python",
   "pygments_lexer": "ipython3",
   "version": "3.6.0"
  }
 },
 "nbformat": 4,
 "nbformat_minor": 2
}
