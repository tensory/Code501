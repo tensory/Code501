{
 "cells": [
  {
   "cell_type": "code",
   "execution_count": 3,
   "metadata": {
    "collapsed": false,
    "deletable": true,
    "editable": true
   },
   "outputs": [
    {
     "name": "stdout",
     "output_type": "stream",
     "text": [
      "0\n",
      "1\n",
      "2\n",
      "3\n",
      "4\n",
      "5\n",
      "6\n",
      "7\n",
      "0\n",
      "1\n",
      "2\n",
      "3\n",
      "4\n",
      "5\n",
      "6\n",
      "5\n"
     ]
    }
   ],
   "source": [
    "def find_next(a):\n",
    "    \"\"\"\n",
    "    Find the smallest positive number that is NOT found in the array.\n",
    "    The array may have positive or negative values.\n",
    "    Handle the case of 0.\n",
    "    \"\"\"\n",
    "    \n",
    "    size = len(a)\n",
    "    positive_numbers = 0\n",
    "#     You cannot simply count positive numbers. \n",
    "#     You can only visit numbers in the range to find potential candidates.\n",
    "#     for i, v in enumerate(a):\n",
    "#         if v > 0 and v <= max:\n",
    "#             positive_numbers += 1\n",
    "\n",
    "    for i, v in enumerate(a):\n",
    "        print(i)\n",
    "        if v < size:\n",
    "            positive_numbers += 1\n",
    "                        \n",
    "            \n",
    "    return positive_numbers + 1\n",
    "        \n",
    "print(find_next([i+1 for i in range(7)]))\n",
    "print(find_next([5, 7, 4, 18, -21, -1, 67]))"
   ]
  },
  {
   "cell_type": "code",
   "execution_count": null,
   "metadata": {
    "collapsed": true,
    "deletable": true,
    "editable": true
   },
   "outputs": [],
   "source": []
  }
 ],
 "metadata": {
  "kernelspec": {
   "display_name": "Python 3",
   "language": "python",
   "name": "python3"
  },
  "language_info": {
   "codemirror_mode": {
    "name": "ipython",
    "version": 3
   },
   "file_extension": ".py",
   "mimetype": "text/x-python",
   "name": "python",
   "nbconvert_exporter": "python",
   "pygments_lexer": "ipython3",
   "version": "3.6.0"
  }
 },
 "nbformat": 4,
 "nbformat_minor": 2
}
