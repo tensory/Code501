{
 "cells": [
  {
   "cell_type": "code",
   "execution_count": 38,
   "metadata": {
    "collapsed": true
   },
   "outputs": [],
   "source": [
    "class LinkedList:\n",
    "    class Node:\n",
    "        def __init__(self, value):\n",
    "            self.next = None\n",
    "            self.value = value\n",
    "            \n",
    "        def setNext(self, node):\n",
    "            self.next = node            \n",
    "    \n",
    "    def __init__(self):\n",
    "        self.head = None\n",
    "        \n",
    "    def add(self, value):\n",
    "        if not self.head:\n",
    "            self.head = LinkedList.Node(value)\n",
    "            return\n",
    "        \n",
    "        last_node = self.head\n",
    "        while last_node.next:\n",
    "            last_node = last_node.next\n",
    "            \n",
    "        last_node.next = LinkedList.Node(value)\n",
    "        \n",
    "    # Added for Q1.\n",
    "    def delete(self, value_to_delete):\n",
    "        if not self.head:\n",
    "            return False\n",
    "\n",
    "        # deletion at head\n",
    "        if self.head.value == value_to_delete:\n",
    "            self.head = self.head.next\n",
    "            return True\n",
    "                \n",
    "        # first solve deletion for a non-head node\n",
    "        prev_node = self.head\n",
    "        next_node = self.head.next\n",
    "\n",
    "        while next_node: # there is more than one node\n",
    "            if next_node.value == value_to_delete:\n",
    "                if next_node.next:\n",
    "                    prev_node.next = next_node.next\n",
    "                del next_node # needed at all?\n",
    "                return True\n",
    "            next_node = next_node.next\n",
    "        return False\n",
    "    \n",
    "    def to_string(self):\n",
    "        if not self.head:\n",
    "            return ''\n",
    "        \n",
    "        values = []\n",
    "        next_node = self.head\n",
    "        while next_node:\n",
    "            values.append(next_node.value)\n",
    "            next_node = next_node.next\n",
    "        return \", \".join([str(i) for i in values])\n",
    "        \n",
    "List = HEAD > 1 > 3 > 6 > -1 > 8 > NULL\n",
    "\n",
    "Delete (3)\n",
    "\n",
    "Updated list = HEAD > 1 > 6 > -1 > 8 > NULL\n",
    "\n",
    "Delete (8)\n",
    "\n",
    "Updated list = HEAD > 1 > 6 > -1 > NULL\n",
    "\n",
    "Delete (1)\n",
    "\n",
    "Updated list = HEAD > 6 > -1 > 8 > NULL\n",
    "\n",
    "Consider what will be the input and output (if-any) of your function.            \n",
    "# Test output\n",
    "# List = HEAD > 1 > 3 > 6 > -1 > 8 > NULL\n",
    "# Delete (3)\n",
    "\n",
    "# Still to do on this problem:\n",
    "# Handle deleting a value at HEAD\n",
    "# /Write a printer for list contents after deletion"
   ]
  },
  {
   "cell_type": "code",
   "execution_count": 39,
   "metadata": {},
   "outputs": [
    {
     "data": {
      "text/plain": [
       "'6'"
      ]
     },
     "execution_count": 39,
     "metadata": {},
     "output_type": "execute_result"
    }
   ],
   "source": [
    "ll = LinkedList()\n",
    "ll.add(2)\n",
    "ll.add(3)\n",
    "ll.add(6)\n",
    "ll.delete(3)\n",
    "ll.delete(2)\n",
    "ll.to_string()"
   ]
  },
  {
   "cell_type": "code",
   "execution_count": null,
   "metadata": {
    "collapsed": true
   },
   "outputs": [],
   "source": []
  }
 ],
 "metadata": {
  "kernelspec": {
   "display_name": "Python 3",
   "language": "python",
   "name": "python3"
  },
  "language_info": {
   "codemirror_mode": {
    "name": "ipython",
    "version": 3
   },
   "file_extension": ".py",
   "mimetype": "text/x-python",
   "name": "python",
   "nbconvert_exporter": "python",
   "pygments_lexer": "ipython3",
   "version": "3.6.0"
  }
 },
 "nbformat": 4,
 "nbformat_minor": 2
}
