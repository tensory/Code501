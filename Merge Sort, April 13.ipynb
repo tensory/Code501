{
 "cells": [
  {
   "cell_type": "code",
   "execution_count": 15,
   "metadata": {},
   "outputs": [
    {
     "name": "stdout",
     "output_type": "stream",
     "text": [
      "[2, 3, 4]\n",
      "[1, 2, 3, 4, 9, 10]\n",
      "[0, 1, 2, 3, 4, 5, 6, 7, 8, 9, 10, 11, 12, 13, 14, 15, 16, 17, 18, 19, 20, 21, 22, 23, 24, 25, 26, 27, 28, 29, 30, 31, 32, 33, 34, 35, 36, 37, 38, 39, 40, 41, 42, 43, 44, 45, 46, 47, 48, 49, 50, 51, 52, 53, 54, 55, 56, 57, 58, 59, 60, 61, 62, 63, 64, 65, 66, 67, 68, 69, 70, 71, 72, 73, 74, 75, 76, 77, 78, 79, 80, 81, 82, 83, 84, 85, 86, 87, 88, 89]\n"
     ]
    }
   ],
   "source": [
    "import random\n",
    "\n",
    "def merge_sort(array):\n",
    "    if len(array) < 2:\n",
    "        return array\n",
    "    \n",
    "    l, r = 0, len(array)\n",
    "    mid = l + ((r - l) // 2)\n",
    "    left = array[:mid]\n",
    "    right = array[mid:]\n",
    "    \n",
    "    left = merge_sort(left)\n",
    "    right = merge_sort(right) \n",
    "    return do_merge(array, left, right)\n",
    "\n",
    "\n",
    "def do_merge(array, left, right):\n",
    "    m, l, r = 0, 0, 0\n",
    "    # in-place - not using a copy of array\n",
    "    \n",
    "    while l < len(left) and r < len(right):\n",
    "        if left[l] <= right[r]:\n",
    "            array[m] = left[l]\n",
    "            # \"consume\" the left element by moving the l pointer\n",
    "            l += 1\n",
    "        else:\n",
    "            array[m] = right[r]\n",
    "            r += 1\n",
    "        m += 1\n",
    "\n",
    "    # clean up left\n",
    "    while l < len(left):\n",
    "        array[m] = left[l]\n",
    "        l += 1\n",
    "        m += 1\n",
    "    # clean up right\n",
    "    while r < len(right):\n",
    "        array[m] = right[r]\n",
    "        r += 1\n",
    "        m += 1\n",
    "            \n",
    "    return array\n",
    "\n",
    "tests = [\n",
    "    [2, 3, 4],\n",
    "    [4, 3, 2, 9, 10, 1],\n",
    "    list(reversed([i for i in range(90)]))\n",
    "]\n",
    "\n",
    "for sample in tests:\n",
    "    sorted_list = merge_sort(sample)\n",
    "    is_sorted = False\n",
    "    for i, v in enumerate(sorted_list):\n",
    "        if i == 0:\n",
    "            continue\n",
    "        is_sorted = sorted_list[i - 1] < sorted_list[i]\n",
    "    print(sorted_list)\n",
    "    #    print(is_sorted)"
   ]
  },
  {
   "cell_type": "code",
   "execution_count": null,
   "metadata": {
    "collapsed": true
   },
   "outputs": [],
   "source": []
  }
 ],
 "metadata": {
  "kernelspec": {
   "display_name": "Python 3",
   "language": "python",
   "name": "python3"
  },
  "language_info": {
   "codemirror_mode": {
    "name": "ipython",
    "version": 3
   },
   "file_extension": ".py",
   "mimetype": "text/x-python",
   "name": "python",
   "nbconvert_exporter": "python",
   "pygments_lexer": "ipython3",
   "version": "3.6.0"
  }
 },
 "nbformat": 4,
 "nbformat_minor": 2
}
