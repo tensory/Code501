{
 "cells": [
  {
   "cell_type": "code",
   "execution_count": 21,
   "metadata": {
    "collapsed": false
   },
   "outputs": [
    {
     "name": "stdout",
     "output_type": "stream",
     "text": [
      "True\n",
      "True\n"
     ]
    }
   ],
   "source": [
    "def rle(string=\"\"):\n",
    "    substr_len = 1\n",
    "    last_char = \"\"\n",
    "    output = \"\"\n",
    "    \n",
    "    end = len(string)\n",
    "    for i in range(1, end + 1):\n",
    "        last_char = string[i - 1]\n",
    "        \n",
    "        if i == end or string[i] != last_char:\n",
    "            # record output\n",
    "            output += \"%d%s\" % (substr_len, last_char)\n",
    "            substr_len = 1\n",
    "            \n",
    "        else:\n",
    "            substr_len += 1\n",
    "    return output\n",
    "\n",
    "\n",
    "tests = {\n",
    "    'aaaabcccaa': '4a1b3c2a',\n",
    "    'eeeffffee': '3e4f2e'\n",
    "}\n",
    "\n",
    "for k, v in tests.items():\n",
    "    print(rle(k) == v)"
   ]
  },
  {
   "cell_type": "code",
   "execution_count": null,
   "metadata": {
    "collapsed": true
   },
   "outputs": [],
   "source": []
  }
 ],
 "metadata": {
  "kernelspec": {
   "display_name": "Python 3",
   "language": "python",
   "name": "python3"
  },
  "language_info": {
   "codemirror_mode": {
    "name": "ipython",
    "version": 3
   },
   "file_extension": ".py",
   "mimetype": "text/x-python",
   "name": "python",
   "nbconvert_exporter": "python",
   "pygments_lexer": "ipython3",
   "version": "3.6.0"
  }
 },
 "nbformat": 4,
 "nbformat_minor": 2
}
