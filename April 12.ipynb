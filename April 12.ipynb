{
 "cells": [
  {
   "cell_type": "code",
   "execution_count": null,
   "metadata": {
    "collapsed": true
   },
   "outputs": [],
   "source": [
    "# Selection sort invariant:\n",
    "# Move from the right, find the index of the next-largest \n",
    "\n",
    "Quicksort.\n",
    "\n",
    "quicksort(array, lower, upper)\n",
    "    # base case\n",
    "    if lower >= upper\n",
    "        return, nothing more to do\n",
    "    else \n",
    "        partition array around pivot\n",
    "        quicksort array to left of pivot\n",
    "        quicksort array to R of pivot\n",
    "        "
   ]
  }
 ],
 "metadata": {
  "kernelspec": {
   "display_name": "Python 3",
   "language": "python",
   "name": "python3"
  },
  "language_info": {
   "codemirror_mode": {
    "name": "ipython",
    "version": 3
   },
   "file_extension": ".py",
   "mimetype": "text/x-python",
   "name": "python",
   "nbconvert_exporter": "python",
   "pygments_lexer": "ipython3",
   "version": "3.6.0"
  }
 },
 "nbformat": 4,
 "nbformat_minor": 2
}
