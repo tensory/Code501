{
 "cells": [
  {
   "cell_type": "code",
   "execution_count": 12,
   "metadata": {
    "collapsed": false
   },
   "outputs": [
    {
     "name": "stdout",
     "output_type": "stream",
     "text": [
      "True\n",
      "True\n",
      "True\n",
      "True\n",
      "True\n",
      "True\n",
      "True\n",
      "True\n",
      "True\n"
     ]
    }
   ],
   "source": [
    "def last_word_length(text=\"\"):\n",
    "    if not text:\n",
    "        return 0\n",
    "    \n",
    "    did_find_word_char = False\n",
    "    last_word_length, current_word_length = 0, 0\n",
    "    ALPHA_NUMERIC = set(\"1234567890abcdefghijklmnopqrstuvwxyzABCDEFGHIJKLMNOPQRSTUVWXYZ\")\n",
    "    \n",
    "    for char in text:\n",
    "        if char != ' ':\n",
    "            current_word_length +=1\n",
    "            if not did_find_word_char:\n",
    "                did_find_word_char = char in ALPHA_NUMERIC\n",
    "            \n",
    "            if did_find_word_char:\n",
    "                last_word_length = current_word_length\n",
    "        else:\n",
    "            current_word_length = 0\n",
    "            did_find_word_char = False\n",
    "            \n",
    "    return last_word_length\n",
    "\n",
    "\n",
    "tests = {\n",
    "    \"a\": 1,\n",
    "    \"A\": 1,\n",
    "    \"Creating new notebook in\": 2,\n",
    "    \"\\\"This should help.\\\" \\\"It doesn't!\\\"\": 9,\n",
    "    \"Doesn't\": 7,\n",
    "    \"I asked her to come at 2\": 1,\n",
    "    \"I asked her to come at 2.\": 2,\n",
    "    \"Hello how are you do1234ng. ?\": 9,\n",
    "    \"Hello how are you ??do1234ng. ?\": 11\n",
    "}\n",
    "\n",
    "for k, v in tests.items():\n",
    "    length = last_word_length(k)\n",
    "    print(length == v)\n"
   ]
  },
  {
   "cell_type": "code",
   "execution_count": 22,
   "metadata": {
    "collapsed": false
   },
   "outputs": [
    {
     "name": "stdout",
     "output_type": "stream",
     "text": [
      "False None\n",
      "False None\n"
     ]
    }
   ],
   "source": [
    "def smv(a):\n",
    "    \n",
    "\n",
    "tests = [\n",
    "    ([6, 1, 2, 4, 7], 3),\n",
    "    ([1, 2, 3, 6, 6, 7], 4),\n",
    "]\n",
    "\n",
    "for array, expected_value in tests:\n",
    "    value = smallest_positive_integer_not_in(array)\n",
    "    print(value == expected_value, value)"
   ]
  },
  {
   "cell_type": "code",
   "execution_count": null,
   "metadata": {
    "collapsed": true
   },
   "outputs": [],
   "source": []
  },
  {
   "cell_type": "code",
   "execution_count": null,
   "metadata": {
    "collapsed": true
   },
   "outputs": [],
   "source": []
  },
  {
   "cell_type": "code",
   "execution_count": null,
   "metadata": {
    "collapsed": true
   },
   "outputs": [],
   "source": []
  }
 ],
 "metadata": {
  "kernelspec": {
   "display_name": "Python 3",
   "language": "python",
   "name": "python3"
  },
  "language_info": {
   "codemirror_mode": {
    "name": "ipython",
    "version": 3
   },
   "file_extension": ".py",
   "mimetype": "text/x-python",
   "name": "python",
   "nbconvert_exporter": "python",
   "pygments_lexer": "ipython3",
   "version": "3.6.0"
  }
 },
 "nbformat": 4,
 "nbformat_minor": 2
}
