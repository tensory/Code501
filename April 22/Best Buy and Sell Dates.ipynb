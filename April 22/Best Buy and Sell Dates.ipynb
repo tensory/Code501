{
 "cells": [
  {
   "cell_type": "code",
   "execution_count": 18,
   "metadata": {
    "collapsed": false
   },
   "outputs": [
    {
     "name": "stdout",
     "output_type": "stream",
     "text": [
      "0 3 3\n",
      "1 2 3\n",
      "resetting with 1, 2\n",
      "1, 0, 1, 0\n",
      "2 1 3\n",
      "resetting with 2, 1\n",
      "2, 0, 2, 0\n",
      "3 2 3\n",
      "resetting with 3, 2\n",
      "3, 0, 3, 0\n",
      "returning second block\n",
      "[3, 0]\n"
     ]
    }
   ],
   "source": [
    "def find_best_roi_in_range(a):\n",
    "    smallest, largest = a[0], a[0]\n",
    "    i_smallest, i_largest, i_next_smallest_, i_next_largest = 0, 0, 0, 0\n",
    "    \n",
    "    for i, v in enumerate(a):\n",
    "        \n",
    "#         if v < smallest_value:\n",
    "#             smallest_value = v\n",
    "#             i_smallest = i\n",
    "\n",
    "        print(i, v, smallest)\n",
    "        if v < smallest:\n",
    "            i_smallest = i\n",
    "            \n",
    "            if i > i_largest:\n",
    "                i_next_smallest = i_smallest\n",
    "                i_next_largest = i_largest\n",
    "                \n",
    "                print(\"resetting with %d, %d\" % (i, v))\n",
    "                print(\"%d, %d, %d, %d\" % (i_smallest, i_largest, i_next_smallest, i_next_largest))\n",
    "                next_smallest = smallest\n",
    "                next_largest = largest\n",
    "                \n",
    "                smallest_value = v\n",
    "                largest = -1 # we don't know new largest yet\n",
    "                \n",
    "\n",
    "            else:\n",
    "                smallest = v\n",
    "                i_smallest = i\n",
    "                # normal situation\n",
    "        \n",
    "        if v > smallest and v > largest:\n",
    "            largest = v\n",
    "            i_largest = i\n",
    "        \n",
    "#         if v < smallest_value and i > i_largest:\n",
    "#             next_smallest = smallest_value\n",
    "#             next_largest = largest_value\n",
    "#             smallest_value = v\n",
    "\n",
    "            \n",
    "    if largest > -1:\n",
    "        print(\"returning first block\")\n",
    "        return [i_smallest, i_largest]\n",
    "    else:\n",
    "        print(\"returning second block\")\n",
    "        return [i_next_smallest, i_next_largest]\n",
    "            \n",
    "\n",
    "inputs = [\n",
    "#     [4, 4, 9, 1, 8],\n",
    "#     [1, 2, 3, 2],\n",
    "    [3, 2, 1, 2], # we want 2, 3\n",
    "]\n",
    "\n",
    "\n",
    "for l in inputs:\n",
    "    print(find_best_roi_in_range(l))"
   ]
  },
  {
   "cell_type": "code",
   "execution_count": null,
   "metadata": {
    "collapsed": true
   },
   "outputs": [],
   "source": []
  }
 ],
 "metadata": {
  "kernelspec": {
   "display_name": "Python 3",
   "language": "python",
   "name": "python3"
  },
  "language_info": {
   "codemirror_mode": {
    "name": "ipython",
    "version": 3
   },
   "file_extension": ".py",
   "mimetype": "text/x-python",
   "name": "python",
   "nbconvert_exporter": "python",
   "pygments_lexer": "ipython3",
   "version": "3.6.0"
  }
 },
 "nbformat": 4,
 "nbformat_minor": 2
}
