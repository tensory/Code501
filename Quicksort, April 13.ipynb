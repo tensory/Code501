{
 "cells": [
  {
   "cell_type": "code",
   "execution_count": 44,
   "metadata": {
    "collapsed": false,
    "deletable": true,
    "editable": true
   },
   "outputs": [],
   "source": [
    "import random\n",
    "\n",
    "def quicksort(array, lo, hi):\n",
    "    if hi <= lo:\n",
    "        return\n",
    "    \n",
    "    pivot_location = partition(array, lo, hi)\n",
    "    quicksort(array, lo, pivot_location - 1)\n",
    "    quicksort(array, pivot_location + 1, hi)\n",
    "        \n",
    "        \n",
    "def partition(array, lo, hi):\n",
    "    pivot_index = lo\n",
    "    pivot = array[pivot_index]\n",
    "    \n",
    "#     print(pivot)\n",
    "    \n",
    "    i = lo + 1\n",
    "    j = hi\n",
    "    \n",
    "    while True:\n",
    "        while array[i] < pivot:\n",
    "            if i == hi:\n",
    "                break\n",
    "            i += 1\n",
    "               \n",
    "                \n",
    "        while array[j] >= pivot:\n",
    "            if j == lo:\n",
    "                break\n",
    "            j -= 1\n",
    "\n",
    "        if i >= j:\n",
    "            break\n",
    "            \n",
    "        swap(array, i, j)\n",
    "    \n",
    "    swap(array, pivot_index, j)\n",
    "    return j\n",
    "\n",
    "\n",
    "def swap(array, frm, to):\n",
    "    tmp = array[to]\n",
    "    array[to] = array[frm]\n",
    "    array[frm] = tmp\n",
    "    \n"
   ]
  },
  {
   "cell_type": "code",
   "execution_count": 45,
   "metadata": {
    "collapsed": true
   },
   "outputs": [],
   "source": [
    "def quicksort_random(array, lo, hi):\n",
    "    # https://pythonschool.net/data-structures-algorithms/quicksort/\n",
    "    if hi <= lo:\n",
    "        return\n",
    "    \n",
    "    pivot_location = partition_random(array, lo, hi)\n",
    "    quicksort_random(array, lo, pivot_location - 1)\n",
    "    quicksort_random(array, pivot_location + 1, hi)\n",
    "        \n",
    "        \n",
    "def partition_random(array, lo, hi):\n",
    "    pivot_index = random.randrange(lo, hi) #lo\n",
    "    pivot = array[pivot_index]\n",
    "    \n",
    "    i = lo + 1\n",
    "    j = hi\n",
    "    \n",
    "    while True:\n",
    "        while i <=j and array[i] <= pivot:\n",
    "            i += 1\n",
    "                \n",
    "        while j >= i and array[j] >= pivot:\n",
    "            j -= 1\n",
    "\n",
    "        if i >= j:\n",
    "            break\n",
    "            \n",
    "        swap(array, i, j)\n",
    "    \n",
    "    swap(array, pivot_index, j)\n",
    "    return j"
   ]
  },
  {
   "cell_type": "code",
   "execution_count": 46,
   "metadata": {
    "collapsed": false,
    "deletable": true,
    "editable": true
   },
   "outputs": [
    {
     "name": "stdout",
     "output_type": "stream",
     "text": [
      "[20, 4, 2, 7, 21]\n",
      "[2, 4, 7, 20, 21]\n"
     ]
    }
   ],
   "source": [
    "array = [20, 4, 2, 7, 21]\n",
    "print(array)\n",
    "quicksort(array, 0, len(array) - 1)\n",
    "\n",
    "print(array)"
   ]
  },
  {
   "cell_type": "code",
   "execution_count": null,
   "metadata": {
    "collapsed": true,
    "deletable": true,
    "editable": true
   },
   "outputs": [],
   "source": []
  },
  {
   "cell_type": "code",
   "execution_count": null,
   "metadata": {
    "collapsed": true,
    "deletable": true,
    "editable": true
   },
   "outputs": [],
   "source": []
  },
  {
   "cell_type": "code",
   "execution_count": null,
   "metadata": {
    "collapsed": true,
    "deletable": true,
    "editable": true
   },
   "outputs": [],
   "source": []
  }
 ],
 "metadata": {
  "kernelspec": {
   "display_name": "Python 3",
   "language": "python",
   "name": "python3"
  },
  "language_info": {
   "codemirror_mode": {
    "name": "ipython",
    "version": 3
   },
   "file_extension": ".py",
   "mimetype": "text/x-python",
   "name": "python",
   "nbconvert_exporter": "python",
   "pygments_lexer": "ipython3",
   "version": "3.6.0"
  }
 },
 "nbformat": 4,
 "nbformat_minor": 2
}
