{
 "cells": [
  {
   "cell_type": "code",
   "execution_count": null,
   "metadata": {},
   "outputs": [],
   "source": [
    "import random\n",
    "\n",
    "def quicksort(array, lo, hi):\n",
    "    if lo < hi:\n",
    "        pivot_location = partition(array, lo, hi)\n",
    "        quicksort(array, lo, pivot_location - 1)\n",
    "        quicksort(array, pivot_location + 1, hi)\n",
    "\n",
    "        \n",
    "def partition(array, lo, hi):\n",
    "    i = lo\n",
    "    j = hi + 1\n",
    "    \n",
    "    pivot_index = random.randrange(lo, hi)\n",
    "    pivot = array[pivot_index]\n",
    "    \n",
    "    while True:\n",
    "        while i < pivot:\n",
    "            if i == hi:\n",
    "                break\n",
    "            i += 1\n",
    "        while pivot < j:\n",
    "            if j == lo:\n",
    "                break\n",
    "            j -= 1\n",
    "        if i >= j:\n",
    "            break\n",
    "        swap(array, i, j)\n",
    "\n",
    "    swap(array, lo, j)\n",
    "    return j\n",
    "\n",
    "#     left = lo\n",
    "#     for i in range(lo + 1, hi):\n",
    "        \n",
    "#         if array[i] < pivot:\n",
    "#             print(array, i, left)\n",
    "#             swap(array, i, left)\n",
    "#             print(array)\n",
    "#             left += 1\n",
    "#     swap(array, pivot_index, left)\n",
    "#     return left\n",
    "            \n",
    "def swap(array, frm, to):\n",
    "    tmp = array[to]\n",
    "    array[to] = array[frm]\n",
    "    array[frm] = tmp\n",
    "    \n",
    "    \n",
    "array = [20, 4, 2, 7]\n",
    "quicksort(array, 0, len(array))\n",
    "print(array)"
   ]
  },
  {
   "cell_type": "code",
   "execution_count": null,
   "metadata": {
    "collapsed": true
   },
   "outputs": [],
   "source": []
  }
 ],
 "metadata": {
  "kernelspec": {
   "display_name": "Python 3",
   "language": "python",
   "name": "python3"
  },
  "language_info": {
   "codemirror_mode": {
    "name": "ipython",
    "version": 3
   },
   "file_extension": ".py",
   "mimetype": "text/x-python",
   "name": "python",
   "nbconvert_exporter": "python",
   "pygments_lexer": "ipython3",
   "version": "3.6.0"
  }
 },
 "nbformat": 4,
 "nbformat_minor": 2
}
