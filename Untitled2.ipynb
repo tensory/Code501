{
 "cells": [
  {
   "cell_type": "code",
   "execution_count": 24,
   "metadata": {
    "collapsed": false
   },
   "outputs": [
    {
     "data": {
      "text/plain": [
       "['adg',\n",
       " 'adh',\n",
       " 'adi',\n",
       " 'aeg',\n",
       " 'aeh',\n",
       " 'aei',\n",
       " 'afg',\n",
       " 'afh',\n",
       " 'afi',\n",
       " 'bdg',\n",
       " 'bdh',\n",
       " 'bdi',\n",
       " 'beg',\n",
       " 'beh',\n",
       " 'bei',\n",
       " 'bfg',\n",
       " 'bfh',\n",
       " 'bfi',\n",
       " 'cdg',\n",
       " 'cdh',\n",
       " 'cdi',\n",
       " 'ceg',\n",
       " 'ceh',\n",
       " 'cei',\n",
       " 'cfg',\n",
       " 'cfh',\n",
       " 'cfi']"
      ]
     },
     "execution_count": 24,
     "metadata": {},
     "output_type": "execute_result"
    }
   ],
   "source": [
    "mappings = {\n",
    "    '1': '*',\n",
    "    '2': 'abc',\n",
    "    '3': 'def',\n",
    "    '4': 'ghi',\n",
    "    '5': 'jkl',\n",
    "    '6': 'mno',\n",
    "    '7': 'pqrs',\n",
    "    '8': 'tuv',\n",
    "    '9': 'wxyz',\n",
    "}\n",
    "\n",
    "def permute_digits(digits=\"\"):\n",
    "    if len(digits) == 1:\n",
    "        return list(mappings[digits])\n",
    "    else:\n",
    "        permutations = []\n",
    "        for i in permute_digits(digits[0]):\n",
    "            \n",
    "            for j in permute_digits(digits[1:]): # operate over the rest of the  \n",
    "                permutations.append(i + j)\n",
    "                \n",
    "        return permutations\n",
    "    \n",
    "    \n",
    "def permute_faster(digits=\"\"):\n",
    "    if len(digits) == 1:\n",
    "        return list(mappings[digits])\n",
    "\n",
    "    # just removing the else statement\n",
    "    permutations = []\n",
    "    suffixes = permute_digits(digits[1:])\n",
    "\n",
    "    for i in permute_faster(digits[0]):\n",
    "        for j in suffixes:\n",
    "            permutations.append(i + j)\n",
    "    return permutations\n",
    "                \n",
    "        \n",
    "tests = {\n",
    "    '23': ['ad', 'ae' 'af', 'bd', 'be', 'bf','cd'\n",
    "    ce\n",
    "    cf\n",
    "           ]\n",
    "}\n",
    "            "
   ]
  },
  {
   "cell_type": "code",
   "execution_count": null,
   "metadata": {
    "collapsed": false
   },
   "outputs": [],
   "source": []
  },
  {
   "cell_type": "code",
   "execution_count": null,
   "metadata": {
    "collapsed": true
   },
   "outputs": [],
   "source": []
  },
  {
   "cell_type": "code",
   "execution_count": null,
   "metadata": {
    "collapsed": true
   },
   "outputs": [],
   "source": []
  }
 ],
 "metadata": {
  "kernelspec": {
   "display_name": "Python 3",
   "language": "python",
   "name": "python3"
  },
  "language_info": {
   "codemirror_mode": {
    "name": "ipython",
    "version": 3
   },
   "file_extension": ".py",
   "mimetype": "text/x-python",
   "name": "python",
   "nbconvert_exporter": "python",
   "pygments_lexer": "ipython3",
   "version": "3.6.0"
  }
 },
 "nbformat": 4,
 "nbformat_minor": 2
}
